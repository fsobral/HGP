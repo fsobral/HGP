{
 "cells": [
  {
   "cell_type": "markdown",
   "id": "393e002b",
   "metadata": {},
   "source": [
    "## Dynamic Programming Algorithm for the Constrained Knapsack Problem, HGP"
   ]
  },
  {
   "cell_type": "markdown",
   "id": "21870837",
   "metadata": {},
   "source": [
    "## Problem data"
   ]
  },
  {
   "cell_type": "code",
   "execution_count": 1,
   "id": "143e1779",
   "metadata": {},
   "outputs": [],
   "source": [
    "# position of items\n",
    "coord = [[0,0], [7,8], [2,12], [4,1], [14,12], [12,6], [13,3], [9,4], [10,10], [7,2], [3,4], [2,1], [1,7], [4,8]\n",
    "        , [0,1], [10,14], [5,6], [14,13], [8,6], [6,12], [11,1]]\n",
    "\n",
    "# survival value\n",
    "S = [15; 14; 10; 25; 15; 3; 30; 5; 7; 15; 10; 9; 2; 50; 5; 12; 10; 2; 2; 25]\n",
    "\n",
    "# weight\n",
    "P = [9; 5; 3; 10; 10; 10; 15; 3; 3; 5; 5; 6; 1; 25; 7; 5; 4; 1; 2; 12]\n",
    "\n",
    "# calculating distance between two points (Manhattan distance)\n",
    "function dist(x, y)\n",
    "    d = abs(x[1] - y[1]) + abs(x[2] - y[2])\n",
    "    return d\n",
    "end\n",
    "\n",
    "# number of item\n",
    "n = 21\n",
    "\n",
    "# distance matrix\n",
    "c = zeros((21,21))\n",
    "\n",
    "for i in 1:length(coord)\n",
    "    for j in 1:length(coord)\n",
    "        c[i,j] = dist(coord[i],coord[j])\n",
    "    end\n",
    "end"
   ]
  },
  {
   "cell_type": "markdown",
   "id": "3a7ddd1e",
   "metadata": {},
   "source": [
    "## C(S,k) function"
   ]
  },
  {
   "cell_type": "code",
   "execution_count": 2,
   "id": "36d6ada7",
   "metadata": {},
   "outputs": [
    {
     "data": {
      "text/plain": [
       "C"
      ]
     },
     "execution_count": 2,
     "metadata": {},
     "output_type": "execute_result"
    }
   ],
   "source": [
    "\"\"\"\n",
    "Functionality: Find the best (fastest) way of traveling through vertices of a weighted graph and stoping at a final vertex and verifies if it\n",
    "goes beyond a time limit\n",
    "\n",
    "#### Input:\n",
    "    S - set of vertices to be travelled;\n",
    "    k - ending vertex;\n",
    "    c - nxn distance matrix, where n is the number of vertex in the graph;\n",
    "    D - dictionary that stores unfeasible set of items;\n",
    "    time - value of the time limit.\n",
    "\n",
    "#### Output:\n",
    "    Travel time - best time taken to travel through S and end at k (infinity is not possible to do so respecting time limit);\n",
    "    Path - matrix nx1 that constains the order in which vertices are visited;\n",
    "    timetostop - boolean that tells us if there exists an unfeasible subset of S.\n",
    "\n",
    "\"\"\"\n",
    "function C(S,k,c,D,time)\n",
    "    \n",
    "    m = length(S)\n",
    "    \n",
    "    bestvp = Inf\n",
    "\n",
    "    bestpath = zeros(Int64, m)\n",
    "    \n",
    "    pathp = zeros(Int64, m)\n",
    "    \n",
    "    smallvp = Inf\n",
    "    \n",
    "    setk = setdiff(S,k) \n",
    "    \n",
    "    vp = Inf\n",
    "    \n",
    "    timetostop = false\n",
    "    \n",
    "    # verify feasibility of S\n",
    "    if S in unfeasible\n",
    "        return Inf, bestpath, true\n",
    "    end\n",
    "    \n",
    "    if (S,k) in keys(D)\n",
    "        vp, pathp = D[(S,k)]\n",
    "        return vp, pathp, false\n",
    "    else\n",
    "                \n",
    "        if S == Set([1]) && k == 1\n",
    "            vp = 0\n",
    "            pathp[1] = 1\n",
    "            return vp, pathp, false\n",
    "        elseif k == 1\n",
    "            println(\"C(S,k,c) is not defined for k = 1\")\n",
    "        else\n",
    "            # verify feasibility of setk\n",
    "            if setk in unfeasible\n",
    "                return Inf, bestpath, true\n",
    "            end\n",
    "            \n",
    "            for q in setk\n",
    "                \n",
    "                if q != 1 || length(setk) == 1\n",
    "                    if (setk,q) in keys(D)\n",
    "                        vp, pathp[1:(m-1)] = D[(setk,q)]\n",
    "                    else\n",
    "                        vp, pathp[1:(m-1)], timetostop = C(setk, q, c, D, time)\n",
    "                        \n",
    "                        if timetostop\n",
    "                            break\n",
    "                        end\n",
    "                    end\n",
    "                    \n",
    "                    smallvp = min(vp, smallvp)\n",
    "\n",
    "                    if vp + c[q, k] < bestvp\n",
    "                        bestvp = vp + c[q, k]\n",
    "                        bestpath .= pathp\n",
    "                    end\n",
    "                        \n",
    "                end \n",
    "            end\n",
    "            \n",
    "            # time to stop tells us if there exists an unfeasible subset of S\n",
    "            if smallvp > time\n",
    "                timetostop = true\n",
    "                union!(unfeasible, [setk])\n",
    "                return Inf, bestpath, timetostop\n",
    "            else\n",
    "                bestpath[length(S)] = k\n",
    "                D[(S,k)] = [bestvp, bestpath]\n",
    "                return bestvp, bestpath, timetostop\n",
    "            end\n",
    "\n",
    "        end\n",
    "    end\n",
    "end"
   ]
  },
  {
   "cell_type": "markdown",
   "id": "c8f73dc5",
   "metadata": {},
   "source": [
    "## Unfeasible dictionary"
   ]
  },
  {
   "cell_type": "code",
   "execution_count": 3,
   "id": "043c1b06",
   "metadata": {},
   "outputs": [
    {
     "data": {
      "text/plain": [
       "Set{Set{Int64}}()"
      ]
     },
     "execution_count": 3,
     "metadata": {},
     "output_type": "execute_result"
    }
   ],
   "source": [
    "D = Dict{Any, Array}()\n",
    "unfeasible = Set{Set{Int64}}()"
   ]
  },
  {
   "cell_type": "code",
   "execution_count": 4,
   "id": "4569c324",
   "metadata": {},
   "outputs": [
    {
     "name": "stdout",
     "output_type": "stream",
     "text": [
      "  0.667645 seconds (792.71 k allocations: 43.117 MiB, 3.11% gc time, 99.63% compilation time)\n"
     ]
    },
    {
     "data": {
      "text/plain": [
       "(42.0, [1, 4, 3, 2, 6, 5], false)"
      ]
     },
     "execution_count": 4,
     "metadata": {},
     "output_type": "execute_result"
    }
   ],
   "source": [
    "@time C(Set([i for i in 1:6]),5,c,D,100)"
   ]
  },
  {
   "cell_type": "markdown",
   "id": "c3c2c4a7",
   "metadata": {},
   "source": [
    "## TSP function (Travelling Salesman Problem)"
   ]
  },
  {
   "cell_type": "code",
   "execution_count": 5,
   "id": "c709e802",
   "metadata": {},
   "outputs": [
    {
     "data": {
      "text/plain": [
       "TSP"
      ]
     },
     "execution_count": 5,
     "metadata": {},
     "output_type": "execute_result"
    }
   ],
   "source": [
    "\"\"\"\n",
    "Functionality: Computes the Travelling Salesman Problem.\n",
    "      Find the least amount of time needed to visit all vertices of S, a subset of the vertices of a graph.\n",
    "\n",
    "#### Input:\n",
    "    S - set of vertices to be travelled;\n",
    "    c - nxn distance matrix, where n is the number of vertex in the graph;\n",
    "    time - value of the time limit.\n",
    "\n",
    "#### Output:\n",
    "    sol - value of the least amount of time needed to visit all vertices of S (infinity if S is unfeasible).\n",
    "\n",
    "\"\"\"\n",
    "function TSP(S,c, time)\n",
    "    \n",
    "    \n",
    "    \n",
    "    \n",
    "    return sol\n",
    "end"
   ]
  },
  {
   "cell_type": "code",
   "execution_count": 8,
   "id": "c02ded93",
   "metadata": {},
   "outputs": [
    {
     "name": "stdout",
     "output_type": "stream",
     "text": [
      "  0.000048 seconds (61 allocations: 3.812 KiB)\n"
     ]
    },
    {
     "data": {
      "text/plain": [
       "36.0"
      ]
     },
     "execution_count": 8,
     "metadata": {},
     "output_type": "execute_result"
    }
   ],
   "source": [
    "@time TSP(Set([i for i in 1:5]),c,100)"
   ]
  },
  {
   "cell_type": "markdown",
   "id": "2653e3a5",
   "metadata": {},
   "source": [
    "## H(S) associated functions"
   ]
  },
  {
   "cell_type": "code",
   "execution_count": 24,
   "id": "2bf356c8",
   "metadata": {},
   "outputs": [
    {
     "data": {
      "text/plain": [
       "Dict{Any, Array}()"
      ]
     },
     "execution_count": 24,
     "metadata": {},
     "output_type": "execute_result"
    }
   ],
   "source": [
    "Calculated = Dict{Any, Array}()"
   ]
  },
  {
   "cell_type": "code",
   "execution_count": 25,
   "id": "b16ec862",
   "metadata": {},
   "outputs": [
    {
     "data": {
      "text/plain": [
       "2-element Vector{Int64}:\n",
       " 0\n",
       " 0"
      ]
     },
     "execution_count": 25,
     "metadata": {},
     "output_type": "execute_result"
    }
   ],
   "source": [
    "Calculated[Set([0,1])] = [0,0]"
   ]
  },
  {
   "cell_type": "code",
   "execution_count": 26,
   "id": "abb65ed5",
   "metadata": {},
   "outputs": [
    {
     "data": {
      "text/plain": [
       "Dict{Any, Array} with 1 entry:\n",
       "  Set([0, 1]) => [0, 0]"
      ]
     },
     "execution_count": 26,
     "metadata": {},
     "output_type": "execute_result"
    }
   ],
   "source": [
    "merge(Calculated, Dict(Set([0,1]) => [0,0]))"
   ]
  },
  {
   "cell_type": "code",
   "execution_count": 27,
   "id": "5e44e773",
   "metadata": {},
   "outputs": [
    {
     "data": {
      "text/plain": [
       "Dict{Any, Array} with 1 entry:\n",
       "  Set([0, 1]) => [0, 0]"
      ]
     },
     "execution_count": 27,
     "metadata": {},
     "output_type": "execute_result"
    }
   ],
   "source": [
    " Calculated"
   ]
  },
  {
   "cell_type": "code",
   "execution_count": 28,
   "id": "0944f0f7",
   "metadata": {},
   "outputs": [
    {
     "name": "stdout",
     "output_type": "stream",
     "text": [
      "  0.249287 seconds (118.73 k allocations: 6.322 MiB, 99.83% compilation time)\n"
     ]
    },
    {
     "data": {
      "text/plain": [
       "(39, [1, 1, 1, 0, 0, 0, 0, 0, 0, 0, 0, 0, 0, 0, 0, 0, 0, 0, 0, 0])"
      ]
     },
     "execution_count": 28,
     "metadata": {},
     "output_type": "execute_result"
    }
   ],
   "source": [
    "@time H(Set([0,1,2,3,4]), S, P, c, 30, 30)"
   ]
  },
  {
   "cell_type": "code",
   "execution_count": 29,
   "id": "29998e28",
   "metadata": {},
   "outputs": [
    {
     "data": {
      "text/plain": [
       "bin"
      ]
     },
     "execution_count": 29,
     "metadata": {},
     "output_type": "execute_result"
    }
   ],
   "source": [
    "\"\"\"\n",
    "Functionality: converts a list of 0's and 1's, a binary number, into the correspondent number\n",
    "\n",
    "#### Input:\n",
    "    vector - matrix nx1 with binary entries.\n",
    "    \n",
    "#### Output:\n",
    "    sum - integer value that is represented by the binary list.\n",
    "\"\"\"\n",
    "function bin(vector)\n",
    "    \n",
    "    m = length(vector)\n",
    "    \n",
    "    sum = 0\n",
    "    \n",
    "    for i in 1:m \n",
    "        if vector[i] == 1\n",
    "            sum = sum + 2 ^ (i-1)\n",
    "        end\n",
    "    end\n",
    "    return sum\n",
    "end"
   ]
  },
  {
   "cell_type": "code",
   "execution_count": 30,
   "id": "40e055a6",
   "metadata": {},
   "outputs": [
    {
     "data": {
      "text/plain": [
       "5"
      ]
     },
     "execution_count": 30,
     "metadata": {},
     "output_type": "execute_result"
    }
   ],
   "source": [
    "bin([1,0,1])"
   ]
  },
  {
   "cell_type": "code",
   "execution_count": 31,
   "id": "6b7ab62d",
   "metadata": {},
   "outputs": [
    {
     "data": {
      "text/plain": [
       "bini"
      ]
     },
     "execution_count": 31,
     "metadata": {},
     "output_type": "execute_result"
    }
   ],
   "source": [
    "\"\"\"\n",
    "Functionality: converts an integer to its binary representation in form of a vector (inverse of bin())\n",
    "\n",
    "#### Input:\n",
    "    number - integer value of the number to be converted;\n",
    "    m - integer value of the length of the resulting vector.\n",
    "    \n",
    "#### Output:\n",
    "    vector - matrix nx1 with the binary representation of number.\n",
    "\"\"\"\n",
    "function bini(number,m)\n",
    "    \n",
    "    vector = zeros(Int64,m)\n",
    "    \n",
    "    i=0\n",
    "    \n",
    "    while i < m\n",
    "        if number % 2 == 0\n",
    "            vector[i+1] = 0\n",
    "        else\n",
    "            vector[i+1] = 1\n",
    "        end\n",
    "        number = number ÷ 2\n",
    "        i = i + 1\n",
    "    end\n",
    "    \n",
    "    return vector\n",
    "end"
   ]
  },
  {
   "cell_type": "code",
   "execution_count": 32,
   "id": "8e9da504",
   "metadata": {},
   "outputs": [
    {
     "data": {
      "text/plain": [
       "3-element Vector{Int64}:\n",
       " 1\n",
       " 0\n",
       " 1"
      ]
     },
     "execution_count": 32,
     "metadata": {},
     "output_type": "execute_result"
    }
   ],
   "source": [
    "bini(5,3)"
   ]
  },
  {
   "cell_type": "markdown",
   "id": "1fc545cd",
   "metadata": {},
   "source": [
    "### H(S)"
   ]
  },
  {
   "cell_type": "code",
   "execution_count": 33,
   "id": "56b6c116",
   "metadata": {},
   "outputs": [
    {
     "data": {
      "text/plain": [
       "H"
      ]
     },
     "execution_count": 33,
     "metadata": {},
     "output_type": "execute_result"
    }
   ],
   "source": [
    "\"\"\"\n",
    "Functionality: given a colection of items alongside their weigth and survival value, optimize the total value obtained collecting a\n",
    "items of a subset of the set of items (not necessarily all of them) under time and capacity constraints\n",
    "\n",
    "#### Input:\n",
    "    S - subset of the set of items to be collected;\n",
    "    s - matrix nx1 containig the survival value of each item;\n",
    "    p - matrix nx1 containig the weight of each item;\n",
    "    c - matrix nxn containing the distances between each pair of vertices;\n",
    "    capacity - value in units of weight of the capacity of the knapsack;\n",
    "    time - value in units of time of the time limit.\n",
    "    \n",
    "#### Output:\n",
    "    bests - greates survival value achievable\n",
    "    bestitems - items of the optimal solution\n",
    "\"\"\"\n",
    "function H(S,s,p,c,capacity,time)\n",
    "    \n",
    "    m = length(s)\n",
    "    \n",
    "    seto = setdiff(S,0)\n",
    "    \n",
    "    collitems = zeros(Int64,m)\n",
    "    \n",
    "    salesman = ones(Int64,m+1)\n",
    "    \n",
    "    survival = 0\n",
    "    \n",
    "    bests = 0\n",
    "    \n",
    "    bestitems = zeros(Int64,m)\n",
    "    \n",
    "    if S == Set([0])\n",
    "        return 0, collitems\n",
    "    else\n",
    "        for k in seto\n",
    "                        \n",
    "            if setdiff(S,k) in keys(Calculated)\n",
    "                survival, collitems = Calculated[setdiff(S,k)]\n",
    "                collitems = bini(collitems,m)\n",
    "            else\n",
    "                \n",
    "                survival, collitems  = H(setdiff(S,k),s,p,c,capacity,time)\n",
    "            end            \n",
    "\n",
    "            for i in 1:m\n",
    "                if collitems[i] == 1\n",
    "                    salesman[i+1] = i+1\n",
    "                end\n",
    "            end\n",
    "\n",
    "\n",
    "            if survival > bests && collitems'*p <= capacity && TSP(Set(salesman),c,time) <= time \n",
    "\n",
    "                    bests = survival\n",
    "                \n",
    "                    bestitems .= collitems\n",
    "\n",
    "            end\n",
    "            \n",
    "            survival = survival + s[k]\n",
    "        \n",
    "            collitems[k] = 1\n",
    "            \n",
    "            \n",
    "            for i in 1:m\n",
    "                if collitems[i] == 1\n",
    "                    salesman[i+1] = i+1\n",
    "                end\n",
    "            end            \n",
    "            \n",
    "\n",
    "            if survival > bests && collitems'*p <= capacity && TSP(Set(salesman),c,time) <= time \n",
    "\n",
    "                bests = survival\n",
    "                \n",
    "                bestitems .= collitems\n",
    "\n",
    "            end\n",
    "            \n",
    "        end\n",
    "        \n",
    "        Calculated[S] = [bests, bin(bestitems)]\n",
    "        \n",
    "        return bests, bestitems\n",
    "    end\n",
    "    \n",
    "end"
   ]
  },
  {
   "cell_type": "markdown",
   "id": "6ccaa77c",
   "metadata": {},
   "source": [
    "### HGP()"
   ]
  },
  {
   "cell_type": "code",
   "execution_count": 34,
   "id": "a6ec297d",
   "metadata": {},
   "outputs": [
    {
     "data": {
      "text/plain": [
       "HGP"
      ]
     },
     "execution_count": 34,
     "metadata": {},
     "output_type": "execute_result"
    }
   ],
   "source": [
    "\"\"\"\n",
    "Functionality: given a colection of items alongside their weigth and survival value, optimize the total value obtained collecting a\n",
    "a subset of the set of items under time and capacity constraints\n",
    "\n",
    "#### Input:\n",
    "    m - value of the number of the total number of items;\n",
    "    s - matrix nx1 containig the survival value of each item;\n",
    "    p - matrix nx1 containig the weight of each item;\n",
    "    c - matrix nxn containing the distances between each pair os vertices;\n",
    "    capacity - value in units of weight of the capacity of the knapsack;\n",
    "    time - value in units of time of the time limit.\n",
    "    \n",
    "#### Output:\n",
    "    sol - best survival value obtained collecting items in a viable way.\n",
    "\"\"\"\n",
    "function HGP(m,s,p,c,capacity,time)\n",
    "    sol = 0\n",
    "    setu = Set([0])\n",
    "    for i in 1:m\n",
    "        setu = union!(setu,Set([i]))\n",
    "        sol = H(setu,s,p,c,capacity,time)\n",
    "    end\n",
    "    return sol\n",
    "end"
   ]
  },
  {
   "cell_type": "code",
   "execution_count": 38,
   "id": "42428406",
   "metadata": {},
   "outputs": [
    {
     "data": {
      "text/plain": [
       "(39, [1, 1, 1, 0, 0, 0, 0, 0, 0, 0, 0, 0, 0, 0, 0, 0, 0, 0, 0, 0])"
      ]
     },
     "execution_count": 38,
     "metadata": {},
     "output_type": "execute_result"
    }
   ],
   "source": [
    "@time HGP(5,S,P,c,30,30)"
   ]
  }
 ],
 "metadata": {
  "kernelspec": {
   "display_name": "Julia 1.7.3",
   "language": "julia",
   "name": "julia-1.7"
  },
  "language_info": {
   "file_extension": ".jl",
   "mimetype": "application/julia",
   "name": "julia",
   "version": "1.7.3"
  }
 },
 "nbformat": 4,
 "nbformat_minor": 5
}
